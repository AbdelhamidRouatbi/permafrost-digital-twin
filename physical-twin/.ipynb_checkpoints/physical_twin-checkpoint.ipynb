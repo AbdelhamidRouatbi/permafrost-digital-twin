{
 "cells": [
  {
   "cell_type": "code",
   "execution_count": 1,
   "id": "7b05a31f-258a-4240-b79f-1c7e3d5e6ba0",
   "metadata": {},
   "outputs": [
    {
     "data": {
      "text/plain": [
       "<METHOD(['channel_number=1', 'frame_type=1', \"method=<Queue.DeclareOk(['consumer_count=0', 'message_count=10', 'queue=temperature_queue'])>\"])>"
      ]
     },
     "execution_count": 1,
     "metadata": {},
     "output_type": "execute_result"
    }
   ],
   "source": [
    "# setup\n",
    "\n",
    "import pika\n",
    "import time\n",
    "\n",
    "# RabbitMQ server details\n",
    "rabbitmq_host = 'localhost' \n",
    "queue_name = 'temperature_queue'\n",
    "\n",
    "\n",
    "frequency = 3 #PT sends data every (frequency) seconds\n",
    "csv_file = \"temperature_readings.csv\"\n",
    "\n",
    "\n",
    "# Setup RabbitMQ connection and channel\n",
    "connection = pika.BlockingConnection(pika.ConnectionParameters(host=rabbitmq_host))\n",
    "channel = connection.channel()\n",
    "channel.queue_declare(queue=queue_name, durable=True)"
   ]
  },
  {
   "cell_type": "code",
   "execution_count": 2,
   "id": "b24d5ad4-b85c-437a-b4af-5e669a123b21",
   "metadata": {},
   "outputs": [
    {
     "name": "stdout",
     "output_type": "stream",
     "text": [
      "Sent: Timestep: 0 min, Sensor Data: 4.009245487837425514e+00, -1.012926203433399008e+00, 1.766810008025754497e+00, 3.758027376754904836e+00, 4.220252961921182155e+00, 4.128572701526185718e+00, 4.015375034783984276e+00, 3.993660480081748787e+00, 3.987142135950724420e+00, 3.997497643202365225e+00, 4.000195019586271883e+00\n",
      "Sent: Timestep: 30 min, Sensor Data: 6.089447984676369607e+00, -5.088872303318858759e-01, 1.684593569089609222e+00, 3.634665365761029499e+00, 4.184457520915994877e+00, 4.130877667058367564e+00, 4.030288583117103585e+00, 3.987070233338603220e+00, 4.001751205369838083e+00, 4.000057348378115663e+00, 3.997727337725588193e+00\n",
      "Sent: Timestep: 60 min, Sensor Data: 8.148684491142610398e+00, 7.215485681099323423e-02, 1.641808432094043591e+00, 3.538871406438668377e+00, 4.131746493766657480e+00, 4.123083422111172958e+00, 4.047853865614636781e+00, 3.995894207712603841e+00, 3.998145133562999831e+00, 4.007800387139379694e+00, 4.004628937406044642e+00\n",
      "Sent: Timestep: 90 min, Sensor Data: 1.012610063140469485e+01, 7.308591578175679393e-01, 1.644904849818954240e+00, 3.429590087868295889e+00, 4.096223117345011211e+00, 4.125453221026686990e+00, 4.038734180953071906e+00, 3.998593073425564803e+00, 3.997771945689527318e+00, 4.000090457134481525e+00, 4.007342682777170317e+00\n",
      "Sent: Timestep: 120 min, Sensor Data: 1.199446073100465959e+01, 1.444612373537939254e+00, 1.684049648137320165e+00, 3.345763775887693470e+00, 4.050804180258240628e+00, 4.114905299728214949e+00, 4.046215759992458416e+00, 4.002965563373606983e+00, 3.993495650056949842e+00, 3.995910560090188746e+00, 3.995608848967226123e+00\n"
     ]
    },
    {
     "ename": "KeyboardInterrupt",
     "evalue": "",
     "output_type": "error",
     "traceback": [
      "\u001b[1;31m---------------------------------------------------------------------------\u001b[0m",
      "\u001b[1;31mKeyboardInterrupt\u001b[0m                         Traceback (most recent call last)",
      "Cell \u001b[1;32mIn[2], line 30\u001b[0m\n\u001b[0;32m     28\u001b[0m \u001b[38;5;28mprint\u001b[39m(\u001b[38;5;124mf\u001b[39m\u001b[38;5;124m\"\u001b[39m\u001b[38;5;124mSent: \u001b[39m\u001b[38;5;132;01m{\u001b[39;00mmessage\u001b[38;5;132;01m}\u001b[39;00m\u001b[38;5;124m\"\u001b[39m)\n\u001b[0;32m     29\u001b[0m timestep \u001b[38;5;241m+\u001b[39m\u001b[38;5;241m=\u001b[39m \u001b[38;5;241m30\u001b[39m \u001b[38;5;66;03m# next readings happen after 30 minutes\u001b[39;00m\n\u001b[1;32m---> 30\u001b[0m time\u001b[38;5;241m.\u001b[39msleep(frequency)\n",
      "\u001b[1;31mKeyboardInterrupt\u001b[0m: "
     ]
    }
   ],
   "source": [
    "# main loop\n",
    "\n",
    "with open(csv_file, 'r') as file:\n",
    "    # Skip the header row\n",
    "    next(file)\n",
    "    \n",
    "    timestep = 0 # initial timestamp in minutes\n",
    "    \n",
    "    # Loop through the csv file line by line\n",
    "    for line in file:\n",
    "        line = line.strip()\n",
    "        columns = line.split(\",\")\n",
    "        sensor_data = ', '.join(columns)\n",
    "        \n",
    "        # The message includes the timestep and all the sensors readings\n",
    "        message = f\"Timestep: {timestep} min, Sensor Data: {sensor_data}\"\n",
    "        \n",
    "        # Send the message to the RabbitMQ queue\n",
    "        channel.basic_publish(\n",
    "            exchange='',  \n",
    "            routing_key=queue_name, \n",
    "            body=message, \n",
    "            properties=pika.BasicProperties(\n",
    "                delivery_mode=2,\n",
    "            )\n",
    "        )\n",
    "        \n",
    "        print(f\"Sent: {message}\")\n",
    "        timestep += 30 # next readings happen after 30 minutes\n",
    "        time.sleep(frequency)\n"
   ]
  },
  {
   "cell_type": "code",
   "execution_count": null,
   "id": "7b434281-b285-46b2-8817-05ada7ef4bb7",
   "metadata": {},
   "outputs": [],
   "source": []
  }
 ],
 "metadata": {
  "kernelspec": {
   "display_name": "Python 3 (ipykernel)",
   "language": "python",
   "name": "python3"
  },
  "language_info": {
   "codemirror_mode": {
    "name": "ipython",
    "version": 3
   },
   "file_extension": ".py",
   "mimetype": "text/x-python",
   "name": "python",
   "nbconvert_exporter": "python",
   "pygments_lexer": "ipython3",
   "version": "3.12.7"
  }
 },
 "nbformat": 4,
 "nbformat_minor": 5
}
