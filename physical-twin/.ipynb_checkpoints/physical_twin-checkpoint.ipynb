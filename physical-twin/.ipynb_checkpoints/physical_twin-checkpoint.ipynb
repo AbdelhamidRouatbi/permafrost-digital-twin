{
 "cells": [
  {
   "cell_type": "code",
   "execution_count": 19,
   "id": "7b05a31f-258a-4240-b79f-1c7e3d5e6ba0",
   "metadata": {},
   "outputs": [
    {
     "name": "stdout",
     "output_type": "stream",
     "text": [
      "Sending message...\n"
     ]
    },
    {
     "data": {
      "text/plain": [
       "<METHOD(['channel_number=1', 'frame_type=1', 'method=<Queue.BindOk>'])>"
      ]
     },
     "execution_count": 19,
     "metadata": {},
     "output_type": "execute_result"
    }
   ],
   "source": [
    "# setup\n",
    "\n",
    "import pika\n",
    "import time\n",
    "\n",
    "# Print message before sending\n",
    "print(\"Sending message...\")\n",
    "\n",
    "# RabbitMQ server details\n",
    "rabbitmq_host = 'localhost'\n",
    "exchange_name = 'PermafrostExchange'\n",
    "routing_key = 'permafrost-routing-key'\n",
    "queue_name = 'TemperatureQueue'\n",
    "\n",
    "# Setup RabbitMQ connection and channel\n",
    "connection = pika.BlockingConnection(pika.ConnectionParameters(host=rabbitmq_host))\n",
    "channel = connection.channel()\n",
    "\n",
    "# Declare exchange and queue (similar to C#)\n",
    "channel.exchange_declare(exchange=exchange_name, exchange_type='direct', durable=False)\n",
    "channel.queue_declare(queue=queue_name, durable=False)\n",
    "channel.queue_bind(queue=queue_name, exchange=exchange_name, routing_key=routing_key)\n"
   ]
  },
  {
   "cell_type": "code",
   "execution_count": 20,
   "id": "b24d5ad4-b85c-437a-b4af-5e669a123b21",
   "metadata": {},
   "outputs": [
    {
     "name": "stdout",
     "output_type": "stream",
     "text": [
      "Sent: data: 241\n",
      "Sent: data: 241\n",
      "Sent: data: 238\n",
      "Sent: data: 238\n",
      "Sent: data: 238\n",
      "Sent: data: 236\n",
      "Sent: data: 236\n",
      "Sent: data: 237\n",
      "Sent: data: 237\n",
      "Sent: data: 237\n",
      "Sent: data: 240\n",
      "Sent: data: 241\n",
      "Sent: data: 244\n",
      "Sent: data: 245\n",
      "Sent: data: 245\n",
      "Sent: data: 245\n",
      "Sent: data: 245\n",
      "Sent: data: 244\n",
      "Sent: data: 244\n",
      "Sent: data: 243\n",
      "Sent: data: 247\n",
      "Sent: data: 247\n",
      "Sent: data: 250\n",
      "Sent: data: 250\n",
      "Sent: data: 250\n",
      "Sent: data: 251\n",
      "Sent: data: 251\n",
      "Sent: data: 253\n",
      "Sent: data: 251\n",
      "Sent: data: 251\n",
      "Sent: data: 250\n",
      "Sent: data: 248\n",
      "Sent: data: 246\n",
      "Sent: data: 244\n",
      "Sent: data: 242\n",
      "Sent: data: 241\n",
      "Sent: data: 241\n",
      "Sent: data: 240\n",
      "Sent: data: 240\n",
      "Sent: data: 240\n",
      "Sent: data: 239\n",
      "Sent: data: 239\n",
      "Sent: data: 239\n",
      "Sent: data: 239\n",
      "Sent: data: 236\n",
      "Sent: data: 235\n",
      "Sent: data: 234\n"
     ]
    },
    {
     "ename": "KeyboardInterrupt",
     "evalue": "",
     "output_type": "error",
     "traceback": [
      "\u001b[1;31m---------------------------------------------------------------------------\u001b[0m",
      "\u001b[1;31mKeyboardInterrupt\u001b[0m                         Traceback (most recent call last)",
      "Cell \u001b[1;32mIn[20], line 35\u001b[0m\n\u001b[0;32m     33\u001b[0m \u001b[38;5;28mprint\u001b[39m(\u001b[38;5;124mf\u001b[39m\u001b[38;5;124m\"\u001b[39m\u001b[38;5;124mSent: \u001b[39m\u001b[38;5;132;01m{\u001b[39;00mmessage\u001b[38;5;132;01m}\u001b[39;00m\u001b[38;5;124m\"\u001b[39m)\n\u001b[0;32m     34\u001b[0m timestep \u001b[38;5;241m+\u001b[39m\u001b[38;5;241m=\u001b[39m \u001b[38;5;241m30\u001b[39m  \u001b[38;5;66;03m# next readings happen after 30 minutes\u001b[39;00m\n\u001b[1;32m---> 35\u001b[0m time\u001b[38;5;241m.\u001b[39msleep(frequency)\n",
      "\u001b[1;31mKeyboardInterrupt\u001b[0m: "
     ]
    }
   ],
   "source": [
    "import os\n",
    "import time\n",
    "\n",
    "# Get the file name without the .csv extension\n",
    "file_name = os.path.basename(\"data.csv\").replace(\".csv\", \"\")\n",
    "\n",
    "frequency = 1\n",
    "with open(\"data/CD100.csv\", 'r') as file:\n",
    "    # Skip the header row\n",
    "    next(file)\n",
    "    \n",
    "    timestep = 0  # initial timestamp in minutes\n",
    "    \n",
    "    # Loop through the csv file line by line\n",
    "    for line in file:\n",
    "        line = line.strip()\n",
    "        columns = line.split(\",\")\n",
    "        sensor_data = ', '.join(columns)\n",
    "        \n",
    "        # The message includes the file name and the sensor reading\n",
    "        message = f\"{file_name}: {columns[1]}\"\n",
    "        \n",
    "        # Skip if the sensor value is -999\n",
    "        if float(columns[1]) == -999: continue\n",
    "        \n",
    "        # Send the message to the RabbitMQ queue\n",
    "        channel.basic_publish(\n",
    "            exchange=exchange_name,\n",
    "            routing_key=routing_key,\n",
    "            body=message\n",
    "        )\n",
    "        \n",
    "        print(f\"Sent: {message}\")\n",
    "        timestep += 30  # next readings happen after 30 minutes\n",
    "        time.sleep(frequency)"
   ]
  },
  {
   "cell_type": "code",
   "execution_count": null,
   "id": "fdafba04-c7aa-4008-a4f8-5c146c24499b",
   "metadata": {},
   "outputs": [],
   "source": [
    "import os\n",
    "import time\n",
    "import glob\n",
    "from concurrent.futures import ThreadPoolExecutor\n",
    "\n",
    "# Function to process each CSV file\n",
    "def process_csv(file_path):\n",
    "    # Get the file name without the .csv extension\n",
    "    file_name = os.path.basename(file_path).replace(\".csv\", \"\")\n",
    "\n",
    "    frequency = 0.1\n",
    "    with open(file_path, 'r') as file:\n",
    "        # Skip the header row\n",
    "        next(file)\n",
    "        \n",
    "        timestep = 0  # initial timestamp in minutes\n",
    "        \n",
    "        # Loop through the csv file line by line\n",
    "        for line in file:\n",
    "            line = line.strip()\n",
    "            columns = line.split(\",\")\n",
    "            sensor_data = ', '.join(columns)\n",
    "            \n",
    "            # The message includes the file name and the sensor reading\n",
    "            message = f\"{file_name}: {columns[1]}\"\n",
    "            \n",
    "            # Skip if the sensor value is -999\n",
    "            if float(columns[1]) == -999: continue\n",
    "            \n",
    "            # Send the message to the RabbitMQ queue\n",
    "            channel.basic_publish(\n",
    "                exchange=exchange_name,\n",
    "                routing_key=routing_key,\n",
    "                body=message\n",
    "            )\n",
    "            \n",
    "            print(f\"Sent: {message}\")\n",
    "            timestep += 30  # next readings happen after 30 minutes\n",
    "            time.sleep(frequency)\n",
    "\n",
    "# Get all CSV files in the current directory (or adjust the path as needed)\n",
    "csv_files = glob.glob(\"data/*.csv\")\n",
    "\n",
    "# Use ThreadPoolExecutor to process each CSV file simultaneously\n",
    "with ThreadPoolExecutor() as executor:\n",
    "    executor.map(process_csv, csv_files)"
   ]
  }
 ],
 "metadata": {
  "kernelspec": {
   "display_name": "Python 3 (ipykernel)",
   "language": "python",
   "name": "python3"
  },
  "language_info": {
   "codemirror_mode": {
    "name": "ipython",
    "version": 3
   },
   "file_extension": ".py",
   "mimetype": "text/x-python",
   "name": "python",
   "nbconvert_exporter": "python",
   "pygments_lexer": "ipython3",
   "version": "3.12.7"
  }
 },
 "nbformat": 4,
 "nbformat_minor": 5
}
