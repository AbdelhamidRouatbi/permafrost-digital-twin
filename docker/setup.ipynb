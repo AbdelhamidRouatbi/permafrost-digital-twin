{
 "cells": [
  {
   "cell_type": "code",
   "execution_count": null,
   "id": "e52f19d1-a71c-4807-ad39-90050259e6a0",
   "metadata": {},
   "outputs": [
    {
     "name": "stdout",
     "output_type": "stream",
     "text": [
      "3-management: Pulling from library/rabbitmq\n",
      "Digest: sha256:b9f39fedbe07a3b033e07aa3a566dc2d3c153da9eda293515f0ef09972c9692b\n",
      "Status: Image is up to date for rabbitmq:3-management\n",
      "docker.io/library/rabbitmq:3-management\n"
     ]
    }
   ],
   "source": [
    "!docker pull rabbitmq:3-management"
   ]
  },
  {
   "cell_type": "code",
   "execution_count": 15,
   "id": "f12bf7d6-53ff-43a0-ac00-9645bf153369",
   "metadata": {},
   "outputs": [
    {
     "name": "stdout",
     "output_type": "stream",
     "text": [
      "cdb35b7fa51ece8aebb2fffc48151654ee3b6ee45469b60dd109c7f795e2cdf7\n"
     ]
    }
   ],
   "source": [
    "!docker run -d --name rabbitmq-server-permafrost -p 5672:5672 -p 15672:15672 rabbitmq:3-management"
   ]
  },
  {
   "cell_type": "code",
   "execution_count": 16,
   "id": "8ffc4338-f643-4f30-8344-7daaebce5e80",
   "metadata": {},
   "outputs": [
    {
     "name": "stdout",
     "output_type": "stream",
     "text": [
      "rabbitmq-server-permafrost\n"
     ]
    }
   ],
   "source": [
    "!docker start rabbitmq-server-permafrost"
   ]
  },
  {
   "cell_type": "code",
   "execution_count": null,
   "id": "fb5d170f-8eb3-4793-bf18-e41f07d6f6fb",
   "metadata": {},
   "outputs": [],
   "source": [
    "!docker pull influxdb:latest"
   ]
  },
  {
   "cell_type": "code",
   "execution_count": 12,
   "id": "72b59add",
   "metadata": {},
   "outputs": [
    {
     "name": "stdout",
     "output_type": "stream",
     "text": [
      "9e014f687c9ee98645e7b71bfcc404ad4e1bb4f16173e5cbf13dee738223f6e4\n"
     ]
    }
   ],
   "source": [
    "!docker run -d --name influxdb-permafrost -p 8086:8086 -v C:/Users/yoyof/influxdb:/var/lib/influxdb influxdb\n"
   ]
  },
  {
   "cell_type": "code",
   "execution_count": 13,
   "metadata": {},
   "outputs": [
    {
     "name": "stdout",
     "output_type": "stream",
     "text": [
      "Collecting influxdb-client\n",
      "  Using cached influxdb_client-1.48.0-py3-none-any.whl.metadata (65 kB)\n",
      "Collecting pika\n",
      "  Using cached pika-1.3.2-py3-none-any.whl.metadata (13 kB)\n",
      "Collecting reactivex>=4.0.4 (from influxdb-client)\n",
      "  Using cached reactivex-4.0.4-py3-none-any.whl.metadata (5.5 kB)\n",
      "Collecting certifi>=14.05.14 (from influxdb-client)\n",
      "  Using cached certifi-2025.1.31-py3-none-any.whl.metadata (2.5 kB)\n",
      "Requirement already satisfied: python-dateutil>=2.5.3 in c:\\users\\yoyof\\code\\permafrost-digital-twin\\.venv\\lib\\site-packages (from influxdb-client) (2.9.0.post0)\n",
      "Collecting setuptools>=21.0.0 (from influxdb-client)\n",
      "  Downloading setuptools-78.1.0-py3-none-any.whl.metadata (6.6 kB)\n",
      "Collecting urllib3>=1.26.0 (from influxdb-client)\n",
      "  Using cached urllib3-2.3.0-py3-none-any.whl.metadata (6.5 kB)\n",
      "Requirement already satisfied: six>=1.5 in c:\\users\\yoyof\\code\\permafrost-digital-twin\\.venv\\lib\\site-packages (from python-dateutil>=2.5.3->influxdb-client) (1.17.0)\n",
      "Collecting typing-extensions<5.0.0,>=4.1.1 (from reactivex>=4.0.4->influxdb-client)\n",
      "  Using cached typing_extensions-4.13.0-py3-none-any.whl.metadata (3.0 kB)\n",
      "Using cached influxdb_client-1.48.0-py3-none-any.whl (746 kB)\n",
      "Using cached pika-1.3.2-py3-none-any.whl (155 kB)\n",
      "Using cached certifi-2025.1.31-py3-none-any.whl (166 kB)\n",
      "Using cached reactivex-4.0.4-py3-none-any.whl (217 kB)\n",
      "Downloading setuptools-78.1.0-py3-none-any.whl (1.3 MB)\n",
      "   ---------------------------------------- 0.0/1.3 MB ? eta -:--:--\n",
      "   -------- ------------------------------- 0.3/1.3 MB ? eta -:--:--\n",
      "   --------------------------------- ------ 1.0/1.3 MB 3.5 MB/s eta 0:00:01\n",
      "   ---------------------------------------- 1.3/1.3 MB 2.7 MB/s eta 0:00:00\n",
      "Using cached urllib3-2.3.0-py3-none-any.whl (128 kB)\n",
      "Using cached typing_extensions-4.13.0-py3-none-any.whl (45 kB)\n",
      "Installing collected packages: urllib3, typing-extensions, setuptools, pika, certifi, reactivex, influxdb-client\n",
      "Successfully installed certifi-2025.1.31 influxdb-client-1.48.0 pika-1.3.2 reactivex-4.0.4 setuptools-78.1.0 typing-extensions-4.13.0 urllib3-2.3.0\n",
      "Note: you may need to restart the kernel to use updated packages.\n"
     ]
    }
   ],
   "source": [
    "%pip install influxdb-client pika"
   ]
  }
 ],
 "metadata": {
  "kernelspec": {
   "display_name": ".venv",
   "language": "python",
   "name": "python3"
  },
  "language_info": {
   "codemirror_mode": {
    "name": "ipython",
    "version": 3
   },
   "file_extension": ".py",
   "mimetype": "text/x-python",
   "name": "python",
   "nbconvert_exporter": "python",
   "pygments_lexer": "ipython3",
   "version": "3.13.1"
  }
 },
 "nbformat": 4,
 "nbformat_minor": 5
}
