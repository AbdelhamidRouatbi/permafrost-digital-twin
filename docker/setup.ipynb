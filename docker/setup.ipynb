{
 "cells": [
  {
   "cell_type": "code",
   "execution_count": 3,
   "id": "e52f19d1-a71c-4807-ad39-90050259e6a0",
   "metadata": {},
   "outputs": [
    {
     "name": "stdout",
     "output_type": "stream",
     "text": [
      "3-management: Pulling from library/rabbitmq\n",
      "Digest: sha256:20aed6473416fa16a7e42dcc592aa5a1aa96a067fcab1b2f0251080b583208d6\n",
      "Status: Image is up to date for rabbitmq:3-management\n",
      "docker.io/library/rabbitmq:3-management\n",
      "done\n"
     ]
    }
   ],
   "source": [
    "!docker pull rabbitmq:3-management"
   ]
  },
  {
   "cell_type": "code",
   "execution_count": 1,
   "id": "f12bf7d6-53ff-43a0-ac00-9645bf153369",
   "metadata": {},
   "outputs": [
    {
     "name": "stdout",
     "output_type": "stream",
     "text": [
      "done\n"
     ]
    },
    {
     "name": "stderr",
     "output_type": "stream",
     "text": [
      "docker: Error response from daemon: Conflict. The container name \"/rabbitmq-server-permafrost\" is already in use by container \"c187d1321ee05671f75817a1469dbe2596aa94aab61deee7096cc929ca105125\". You have to remove (or rename) that container to be able to reuse that name.\n",
      "See 'docker run --help'.\n"
     ]
    }
   ],
   "source": [
    "!docker run -d --name rabbitmq-server-permafrost -p 5672:5672 -p 15672:15672 rabbitmq:3-management"
   ]
  },
  {
   "cell_type": "code",
   "execution_count": 2,
   "id": "8ffc4338-f643-4f30-8344-7daaebce5e80",
   "metadata": {},
   "outputs": [
    {
     "name": "stdout",
     "output_type": "stream",
     "text": [
      "rabbitmq-server-permafrost\n"
     ]
    }
   ],
   "source": [
    "!docker start rabbitmq-server-permafrost"
   ]
  },
  {
   "cell_type": "code",
   "execution_count": null,
   "id": "fb5d170f-8eb3-4793-bf18-e41f07d6f6fb",
   "metadata": {},
   "outputs": [],
   "source": []
  }
 ],
 "metadata": {
  "kernelspec": {
   "display_name": "Python 3 (ipykernel)",
   "language": "python",
   "name": "python3"
  },
  "language_info": {
   "codemirror_mode": {
    "name": "ipython",
    "version": 3
   },
   "file_extension": ".py",
   "mimetype": "text/x-python",
   "name": "python",
   "nbconvert_exporter": "python",
   "pygments_lexer": "ipython3",
   "version": "3.12.7"
  }
 },
 "nbformat": 4,
 "nbformat_minor": 5
}
